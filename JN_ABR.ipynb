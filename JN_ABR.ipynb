{
 "cells": [
  {
   "cell_type": "markdown",
   "metadata": {},
   "source": [
    "# Python Abbreviations "
   ]
  },
  {
   "cell_type": "markdown",
   "metadata": {},
   "source": [
    "task: read file with names and generate 3 letters abbreviation. \n",
    "\n",
    "## Rules: \n",
    "* Abbreviations - UPPER CASE LETTERS \n",
    "* Ignore: Apostrophes ('), non-letter characters -> split texts,  \n",
    "* Abbreviation = 1 letter of the name + 2 further letters \n",
    "* Any abbreviation which can be formed from more than one name on the list - excluded \n",
    "* Each abbreviation => Score => Lower score the better is the Ab. <br>\n",
    "    * score = sum 2 and 3 letter \n",
    "    * if letter = first letter of a word => score = 0\n",
    "    * if letter = last letter of a word => score = 2; except E=>score = 15\n",
    "    * else => sum of index in the word + value based on how common/uncommon this iletter is in EN\n",
    "* main function= names()\n",
    "* output = names_abbrevs.txt => name - abbreviation \n",
    "* if not acceptable translation = blank line \n",
    "* if same score - both abbreviations \n",
    "* trees.txt \n",
    "\n",
    "## Examples: \n",
    "Object-Oriented programming => OBJECT ORIENTED PROGRAMMING <br>\n",
    "Moore's Law => MOORES LAW <br>\n",
    "Data Engineering = (OK) DTA DEG; (BAD) DEA ATA; DAN(13)<br>\n",
    "\n",
    "OBJECT ORIENTED PROGRAMMING = OOP (0); OAN (44= 0+(5+20)+(9+10)); <br>\n",
    "Cold     = COL(28), COD(18), CLD(14)<br>\n",
    "Cool     = COO(33), COL(18)<br>\n",
    "C++ Code = CCO(16), CCD(11), CCE(15), COD(27), COE(31), CDE(26)<br>\n",
    "\n"
   ]
  },
  {
   "cell_type": "code",
   "execution_count": 1,
   "metadata": {},
   "outputs": [
    {
     "data": {
      "text/plain": [
       "'h*ell*o*w*orld*'"
      ]
     },
     "execution_count": 1,
     "metadata": {},
     "output_type": "execute_result"
    }
   ],
   "source": [
    "import re #regular expressions for string manipanulation\n",
    "\n",
    "# exmaples: \n",
    "re.sub('[^0-9a-zA-Z]+', '*', 'h^&ell`.,|o w]{+orld')\n",
    "re.sub('[^a-zA-Z]+', '*', 'h^&ell`.,|o w]{+orld112')"
   ]
  },
  {
   "cell_type": "markdown",
   "metadata": {},
   "source": [
    "# Read file - formatting "
   ]
  },
  {
   "cell_type": "markdown",
   "metadata": {},
   "source": [
    "### names.txt"
   ]
  },
  {
   "cell_type": "code",
   "execution_count": 2,
   "metadata": {},
   "outputs": [],
   "source": [
    "data = []\n",
    "f = open(\"./names.txt\",\"r\", newline='\\r\\n') \n",
    "data = f.readlines() \n",
    "f.close()"
   ]
  },
  {
   "cell_type": "code",
   "execution_count": 3,
   "metadata": {},
   "outputs": [
    {
     "data": {
      "text/plain": [
       "[\"test's\\r\\n\",\n",
       " 'Object-Oriented Programming \\r\\n',\n",
       " 'Cold \\r\\n',\n",
       " 'Cool \\r\\n',\n",
       " 'C++ Code']"
      ]
     },
     "execution_count": 3,
     "metadata": {},
     "output_type": "execute_result"
    }
   ],
   "source": [
    "data"
   ]
  },
  {
   "cell_type": "code",
   "execution_count": 5,
   "metadata": {},
   "outputs": [
    {
     "name": "stdout",
     "output_type": "stream",
     "text": [
      "'\n"
     ]
    }
   ],
   "source": [
    "print( \"'\" )"
   ]
  },
  {
   "cell_type": "code",
   "execution_count": 6,
   "metadata": {},
   "outputs": [],
   "source": [
    "def cleanLine(txt):\n",
    "    txt = txt.replace(\"'\", \"\")\n",
    "    #txt = txt.replace(\"-\", \" \")\n",
    "    txt = re.sub('[^a-zA-Z]+', ' ', txt)\n",
    "    return txt"
   ]
  },
  {
   "cell_type": "code",
   "execution_count": 7,
   "metadata": {},
   "outputs": [
    {
     "name": "stdout",
     "output_type": "stream",
     "text": [
      "[\"test's\"]\n",
      "['Object-Oriented', 'Programming']\n",
      "['Cold']\n",
      "['Cool']\n",
      "['C++', 'Code']\n"
     ]
    },
    {
     "data": {
      "text/plain": [
       "[['TESTS'],\n",
       " ['OBJECT', 'ORIENTED', 'PROGRAMMING'],\n",
       " ['COLD'],\n",
       " ['COOL'],\n",
       " ['C', 'CODE']]"
      ]
     },
     "execution_count": 7,
     "metadata": {},
     "output_type": "execute_result"
    }
   ],
   "source": [
    "data = []\n",
    "f = open(\"./names.txt\",\"r\", newline='\\r\\n') \n",
    "for line in f: \n",
    "    print(line.split())\n",
    "    cline = cleanLine(line)\n",
    "    data.append(cline.upper().split())\n",
    "f.close()\n",
    "data"
   ]
  },
  {
   "cell_type": "code",
   "execution_count": null,
   "metadata": {},
   "outputs": [],
   "source": []
  },
  {
   "cell_type": "code",
   "execution_count": null,
   "metadata": {},
   "outputs": [],
   "source": []
  },
  {
   "cell_type": "markdown",
   "metadata": {},
   "source": [
    "### values.txt\n",
    "store the values in a dictionary"
   ]
  },
  {
   "cell_type": "code",
   "execution_count": 8,
   "metadata": {},
   "outputs": [
    {
     "name": "stdout",
     "output_type": "stream",
     "text": [
      "[['A', '20'], ['B', '8'], ['C', '8'], ['D', '9'], ['E', '25']]\n"
     ]
    },
    {
     "data": {
      "text/plain": [
       "'20'"
      ]
     },
     "execution_count": 8,
     "metadata": {},
     "output_type": "execute_result"
    }
   ],
   "source": [
    "values = []\n",
    "f = open(\"./values.txt\",\"r\", newline='\\r\\n') \n",
    "for line in f: \n",
    "    #print(line.split())  \n",
    "    values.append(line.upper().split())\n",
    "f.close()\n",
    "print(values[0:5])\n",
    "valdic = dict([ (v[0], v[1]) for v in values ])\n",
    "valdic[\"A\"]"
   ]
  },
  {
   "cell_type": "code",
   "execution_count": null,
   "metadata": {},
   "outputs": [],
   "source": [
    "\n"
   ]
  },
  {
   "cell_type": "code",
   "execution_count": null,
   "metadata": {},
   "outputs": [],
   "source": []
  },
  {
   "cell_type": "markdown",
   "metadata": {},
   "source": [
    "## CALCULATE ABBREVIATIONS \n",
    "\n",
    "implement the main logic"
   ]
  },
  {
   "cell_type": "code",
   "execution_count": 9,
   "metadata": {},
   "outputs": [
    {
     "name": "stdout",
     "output_type": "stream",
     "text": [
      "28\n"
     ]
    }
   ],
   "source": [
    "def cal_score(letter): \n",
    "    if letter[0] == 0: \n",
    "        return 0 \n",
    "    if letter[0] == -1: \n",
    "        if letter[1] == \"E\":\n",
    "            return 15\n",
    "        else:\n",
    "            return 2\n",
    "    else: \n",
    "        val = valdic[letter[1]] # read values \n",
    "        return  int(val) + letter[0]\n",
    "\n",
    "print(str(cal_score([3, 'E'])))"
   ]
  },
  {
   "cell_type": "code",
   "execution_count": 10,
   "metadata": {},
   "outputs": [],
   "source": [
    "def names(input): \n",
    "    letters = []\n",
    "    for word in input: \n",
    "        for i in range(len(word)):\n",
    "            letters.append( [ i, word[i]] )\n",
    "        letters[-1][0] = -1 #last letter in a word \n",
    "    letters[-1][0] = -1 #last letter in a word\n",
    "    #print(letters)        \n",
    "    lenLet = len(letters)\n",
    "    if lenLet < 1: \n",
    "        return \"\"\n",
    "    fAB = letters[0]\n",
    "    if lenLet < 2: \n",
    "        return fAB[1]\n",
    "    sAB = letters[1]\n",
    "    if lenLet < 3: \n",
    "        return fAB[1] + sAB[1]\n",
    "    tAB = letters[2]\n",
    "    if lenLet < 4: \n",
    "        return fAB[1] + sAB[1] + tAB[1]\n",
    "    \n",
    "    # else => logic \n",
    "    ps = 1; pt = 2; #POSITION SECOND/THIRD\n",
    "    lc = 10000 # last calculation\n",
    "    while ps < lenLet-1:\n",
    "        sAB = letters[ps]\n",
    "        while pt < lenLet:\n",
    "            tAB = letters[pt]\n",
    "            # do calculation\n",
    "            mc = cal_score(sAB) + cal_score(tAB)\n",
    "            if mc < lc: \n",
    "                lc = mc\n",
    "                ret = fAB[1] + sAB[1] + tAB[1]\n",
    "                #print(\"{}--{}\".format(mc, ret))\n",
    "            elif mc == lc: \n",
    "                ret = ret + \" , \" + fAB[1] + sAB[1] + tAB[1]\n",
    "            pt += 1\n",
    "        ps += 1\n",
    "        pt = ps+1\n",
    "               \n",
    "    return ret"
   ]
  },
  {
   "cell_type": "code",
   "execution_count": 11,
   "metadata": {},
   "outputs": [
    {
     "name": "stdout",
     "output_type": "stream",
     "text": [
      "result: ['OBJECT', 'ORIENTED', 'PROGRAMMING'] - OOP\n"
     ]
    }
   ],
   "source": [
    "test = names(data[1])\n",
    "print(\"result: {} - {}\" .format(data[1], test))"
   ]
  },
  {
   "cell_type": "code",
   "execution_count": 12,
   "metadata": {},
   "outputs": [
    {
     "name": "stdout",
     "output_type": "stream",
     "text": [
      "['TESTS'] - TSS \n",
      "['OBJECT', 'ORIENTED', 'PROGRAMMING'] - OOP \n",
      "['COLD'] - CLD \n",
      "['COOL'] - COL \n",
      "['C', 'CODE'] - CCD \n"
     ]
    }
   ],
   "source": [
    "for name in data: \n",
    "    print(\"{} - {} \".format(name, names(name)))"
   ]
  },
  {
   "cell_type": "code",
   "execution_count": null,
   "metadata": {
    "collapsed": true
   },
   "outputs": [],
   "source": []
  }
 ],
 "metadata": {
  "kernelspec": {
   "display_name": "Python 3",
   "language": "python",
   "name": "python3"
  },
  "language_info": {
   "codemirror_mode": {
    "name": "ipython",
    "version": 3
   },
   "file_extension": ".py",
   "mimetype": "text/x-python",
   "name": "python",
   "nbconvert_exporter": "python",
   "pygments_lexer": "ipython3",
   "version": "3.5.2"
  }
 },
 "nbformat": 4,
 "nbformat_minor": 2
}
