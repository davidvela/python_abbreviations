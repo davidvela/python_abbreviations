{
 "cells": [
  {
   "cell_type": "markdown",
   "metadata": {},
   "source": [
    "# Python Abbreviations "
   ]
  },
  {
   "cell_type": "markdown",
   "metadata": {},
   "source": [
    "task: read file with names and generate 3 letters abbreviation. \n",
    "\n",
    "## Rules: \n",
    "* Abbreviations - UPPER CASE LETTERS \n",
    "* Ignore: Apostrophes ('), non-letter characters -> split texts,  \n",
    "* Abbreviation = 1 letter of the name + 2 further letters \n",
    "* Any abbreviation which can be formed from more than one name on the list - excluded \n",
    "* Each abbreviation => Score => Lower score the better is the Ab. <br>\n",
    "    * score = sum 2 and 3 letter \n",
    "    * if letter = first letter of a word => score = 0\n",
    "    * if letter = last letter of a word => score = 2; except E=>score = 15\n",
    "    * else => sum of index in the word + value based on how common/uncommon this iletter is in EN\n",
    "* main function= names()\n",
    "* output = names_abbrevs.txt => name - abbreviation \n",
    "* if not acceptable translation = blank line \n",
    "* if same score - both abbreviations \n",
    "* trees.txt \n",
    "\n",
    "## Examples: \n",
    "Object-Oriented programming => OBJECT ORIENTED PROGRAMMING <br>\n",
    "Moore's Law => MOORES LAW <br>\n",
    "Data Engineering = (OK) DTA DEG; (BAD) DEA ATA; DAN(13)<br>\n",
    "\n",
    "OBJECT ORIENTED PROGRAMMING = OOP (0); OAN (44= 0+(5+20)+(9+10)); <br>\n",
    "Cold     = COL(28), COD(18), CLD(14)<br>\n",
    "Cool     = COO(33), COL(18)<br>\n",
    "C++ Code = CCO(16), CCD(11), CCE(15), COD(27), COE(31), CDE(26)<br>\n",
    "\n"
   ]
  },
  {
   "cell_type": "code",
   "execution_count": 82,
   "metadata": {},
   "outputs": [
    {
     "data": {
      "text/plain": [
       "'h*ell*o*w*orld*'"
      ]
     },
     "execution_count": 82,
     "metadata": {},
     "output_type": "execute_result"
    }
   ],
   "source": [
    "import re\n",
    "\n",
    "# exmaples: \n",
    "re.sub('[^0-9a-zA-Z]+', '*', 'h^&ell`.,|o w]{+orld')\n",
    "re.sub('[^a-zA-Z]+', '*', 'h^&ell`.,|o w]{+orld112')"
   ]
  },
  {
   "cell_type": "markdown",
   "metadata": {},
   "source": [
    "# Read file - formatting "
   ]
  },
  {
   "cell_type": "markdown",
   "metadata": {},
   "source": [
    "### names.txt"
   ]
  },
  {
   "cell_type": "code",
   "execution_count": 55,
   "metadata": {},
   "outputs": [],
   "source": [
    "data = []\n",
    "f = open(\"./names.txt\",\"r\", newline='\\r\\n') \n",
    "data = f.readlines() \n",
    "f.close()"
   ]
  },
  {
   "cell_type": "code",
   "execution_count": 56,
   "metadata": {},
   "outputs": [
    {
     "data": {
      "text/plain": [
       "['Cold \\r\\n', 'Cool \\r\\n', 'C++ Code']"
      ]
     },
     "execution_count": 56,
     "metadata": {},
     "output_type": "execute_result"
    }
   ],
   "source": [
    "data"
   ]
  },
  {
   "cell_type": "code",
   "execution_count": 68,
   "metadata": {},
   "outputs": [
    {
     "name": "stdout",
     "output_type": "stream",
     "text": [
      "'\n"
     ]
    }
   ],
   "source": [
    "print( \"'\" )"
   ]
  },
  {
   "cell_type": "code",
   "execution_count": 83,
   "metadata": {},
   "outputs": [],
   "source": [
    "def cleanLine(txt):\n",
    "    txt = txt.replace(\"'\", \"\")\n",
    "    #txt = txt.replace(\"-\", \" \")\n",
    "    txt = re.sub('[^a-zA-Z]+', ' ', txt)\n",
    "    return txt"
   ]
  },
  {
   "cell_type": "code",
   "execution_count": 84,
   "metadata": {},
   "outputs": [
    {
     "name": "stdout",
     "output_type": "stream",
     "text": [
      "[\"test's\"]\n",
      "['Object-Oriented', 'Programming']\n",
      "['Cold']\n",
      "['Cool']\n",
      "['C++', 'Code']\n"
     ]
    },
    {
     "data": {
      "text/plain": [
       "[['TESTS'],\n",
       " ['OBJECT', 'ORIENTED', 'PROGRAMMING'],\n",
       " ['COLD'],\n",
       " ['COOL'],\n",
       " ['C', 'CODE']]"
      ]
     },
     "execution_count": 84,
     "metadata": {},
     "output_type": "execute_result"
    }
   ],
   "source": [
    "data = []\n",
    "f = open(\"./names.txt\",\"r\", newline='\\r\\n') \n",
    "for line in f: \n",
    "    print(line.split())\n",
    "    cline = cleanLine(line)\n",
    "    data.append(cline.upper().split())\n",
    "f.close()\n",
    "data"
   ]
  },
  {
   "cell_type": "code",
   "execution_count": null,
   "metadata": {},
   "outputs": [],
   "source": []
  },
  {
   "cell_type": "code",
   "execution_count": null,
   "metadata": {},
   "outputs": [],
   "source": []
  },
  {
   "cell_type": "markdown",
   "metadata": {},
   "source": [
    "### values.txt\n",
    "store the values in a dictionary"
   ]
  },
  {
   "cell_type": "code",
   "execution_count": 74,
   "metadata": {},
   "outputs": [
    {
     "data": {
      "text/plain": [
       "[['A', '20'], ['B', '8'], ['C', '8'], ['D', '9'], ['E', '25']]"
      ]
     },
     "execution_count": 74,
     "metadata": {},
     "output_type": "execute_result"
    }
   ],
   "source": [
    "values = []\n",
    "f = open(\"./values.txt\",\"r\", newline='\\r\\n') \n",
    "for line in f: \n",
    "    #print(line.split())  \n",
    "    values.append(line.upper().split())\n",
    "f.close()\n",
    "values[0:5]"
   ]
  },
  {
   "cell_type": "code",
   "execution_count": null,
   "metadata": {},
   "outputs": [],
   "source": [
    "\n"
   ]
  },
  {
   "cell_type": "code",
   "execution_count": null,
   "metadata": {},
   "outputs": [],
   "source": []
  },
  {
   "cell_type": "markdown",
   "metadata": {},
   "source": [
    "## CALCULATE ABBREVIATIONS \n",
    "\n",
    "implement the main logic"
   ]
  },
  {
   "cell_type": "code",
   "execution_count": 97,
   "metadata": {},
   "outputs": [],
   "source": [
    "def names(input): \n",
    "    FLet = input[0][0]\n",
    "    \n",
    "    if(len(input[0]) < 2): return \"ABC\"\n",
    "    # LOGIC\n",
    "    SLet = input[0][1]\n",
    "    TLet = input[0][2]\n",
    "    \n",
    "    Ab = FLet + SLet + TLet\n",
    "    return Ab"
   ]
  },
  {
   "cell_type": "code",
   "execution_count": 98,
   "metadata": {},
   "outputs": [
    {
     "name": "stdout",
     "output_type": "stream",
     "text": [
      "OBJ\n"
     ]
    }
   ],
   "source": [
    "test = names(data2[1])\n",
    "print(test)"
   ]
  },
  {
   "cell_type": "code",
   "execution_count": 99,
   "metadata": {},
   "outputs": [
    {
     "name": "stdout",
     "output_type": "stream",
     "text": [
      "TES\n",
      "OBJ\n",
      "COL\n",
      "COO\n",
      "ABC\n"
     ]
    }
   ],
   "source": [
    "for name in data: \n",
    "    print(names(name))"
   ]
  },
  {
   "cell_type": "code",
   "execution_count": null,
   "metadata": {},
   "outputs": [],
   "source": []
  }
 ],
 "metadata": {
  "kernelspec": {
   "display_name": "Python 3",
   "language": "python",
   "name": "python3"
  },
  "language_info": {
   "codemirror_mode": {
    "name": "ipython",
    "version": 3
   },
   "file_extension": ".py",
   "mimetype": "text/x-python",
   "name": "python",
   "nbconvert_exporter": "python",
   "pygments_lexer": "ipython3",
   "version": "3.5.2"
  }
 },
 "nbformat": 4,
 "nbformat_minor": 2
}
