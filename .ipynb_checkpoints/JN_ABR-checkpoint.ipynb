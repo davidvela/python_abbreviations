{
 "cells": [
  {
   "cell_type": "markdown",
   "metadata": {},
   "source": [
    "# Python Abbreviations "
   ]
  },
  {
   "cell_type": "markdown",
   "metadata": {},
   "source": [
    "task: read file with names and generate 3 letters abbreviation. \n",
    "\n",
    "## Rules: \n",
    "* Abbreviations - UPPER CASE LETTERS \n",
    "* Ignore: Apostrophes ('), non-letter characters -> split texts,  \n",
    "* Abbreviation = 1 letter of the name + 2 further letters \n",
    "* Any abbreviation which can be formed from more than one name on the list - excluded \n",
    "* Each abbreviation => Score => Lower score the better is the Ab. <br>\n",
    "    * score = sum 2 and 3 letter \n",
    "    * if letter = first letter of a word => score = 0\n",
    "    * if letter = last letter of a word => score = 2; except E=>score = 15\n",
    "    * else => sum of index in the word + value based on how common/uncommon this iletter is in EN\n",
    "* main function= names()\n",
    "* output = names_abbrevs.txt => name - abbreviation \n",
    "* if not acceptable translation = blank line \n",
    "* if same score - both abbreviations \n",
    "* trees.txt \n",
    "\n",
    "## Examples: \n",
    "Object-Oriented programming => OBJECT ORIENTED PROGRAMMING <br>\n",
    "Moore's Law => MOORES LAW <br>\n",
    "Data Engineering = (OK) DTA DEG; (BAD) DEA ATA; DAN(13)<br>\n",
    "\n",
    "OBJECT ORIENTED PROGRAMMING = OOP (0); OAN (44= 0+(5+20)+(9+10)); <br>\n",
    "Cold     = COL(28), COD(18), CLD(14)<br>\n",
    "Cool     = COO(33), COL(18)<br>\n",
    "C++ Code = CCO(16), CCD(11), CCE(15), COD(27), COE(31), CDE(26)<br>\n",
    "\n"
   ]
  },
  {
   "cell_type": "markdown",
   "metadata": {},
   "source": [
    "# Read file - formatting "
   ]
  },
  {
   "cell_type": "code",
   "execution_count": 55,
   "metadata": {},
   "outputs": [],
   "source": [
    "data = []\n",
    "f = open(\"./names.txt\",\"r\", newline='\\r\\n') \n",
    "data = f.readlines() \n",
    "f.close()"
   ]
  },
  {
   "cell_type": "code",
   "execution_count": 56,
   "metadata": {},
   "outputs": [
    {
     "data": {
      "text/plain": [
       "['Cold \\r\\n', 'Cool \\r\\n', 'C++ Code']"
      ]
     },
     "execution_count": 56,
     "metadata": {},
     "output_type": "execute_result"
    }
   ],
   "source": [
    "data"
   ]
  },
  {
   "cell_type": "code",
   "execution_count": 63,
   "metadata": {},
   "outputs": [
    {
     "name": "stdout",
     "output_type": "stream",
     "text": [
      "['Cold']\n",
      "['Cool']\n",
      "['C++', 'Code']\n"
     ]
    }
   ],
   "source": [
    "data2 = []\n",
    "f = open(\"./names.txt\",\"r\", newline='\\r\\n') \n",
    "for line in f: \n",
    "    print(line.split())\n",
    "    data2.append(line.upper().split())\n",
    "f.close()"
   ]
  },
  {
   "cell_type": "code",
   "execution_count": 64,
   "metadata": {},
   "outputs": [
    {
     "data": {
      "text/plain": [
       "[['COLD'], ['COOL'], ['C++', 'CODE']]"
      ]
     },
     "execution_count": 64,
     "metadata": {},
     "output_type": "execute_result"
    }
   ],
   "source": [
    "data2"
   ]
  },
  {
   "cell_type": "code",
   "execution_count": null,
   "metadata": {},
   "outputs": [],
   "source": []
  }
 ],
 "metadata": {
  "kernelspec": {
   "display_name": "Python 3",
   "language": "python",
   "name": "python3"
  },
  "language_info": {
   "codemirror_mode": {
    "name": "ipython",
    "version": 3
   },
   "file_extension": ".py",
   "mimetype": "text/x-python",
   "name": "python",
   "nbconvert_exporter": "python",
   "pygments_lexer": "ipython3",
   "version": "3.5.2"
  }
 },
 "nbformat": 4,
 "nbformat_minor": 2
}
